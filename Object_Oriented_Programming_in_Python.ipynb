{
  "nbformat": 4,
  "nbformat_minor": 0,
  "metadata": {
    "colab": {
      "provenance": []
    },
    "kernelspec": {
      "name": "python3",
      "display_name": "Python 3"
    },
    "language_info": {
      "name": "python"
    }
  },
  "cells": [
    {
      "cell_type": "markdown",
      "source": [
        "**Introduction:**\n",
        "\n",
        "Almost everything in python is an object with has its own properties and methods.\n",
        "\n",
        "**What is a class and How is it defined in Python???**\n",
        "\n",
        "A class is a blueprint of methods and variables that belong to a particular object. To create a class we use a keyword called \"Class\" as shown in below code.\n",
        "\n",
        "\n",
        "\n"
      ],
      "metadata": {
        "id": "n3y6B6z5uq2P"
      }
    },
    {
      "cell_type": "code",
      "source": [
        "class MyClass:\n",
        "  x = 5"
      ],
      "metadata": {
        "id": "0m_Z7nmPwA_6"
      },
      "execution_count": 2,
      "outputs": []
    },
    {
      "cell_type": "markdown",
      "source": [
        "**Creating an Object:**\n",
        "\n",
        "We will use the class MyClass to define an object as shown below."
      ],
      "metadata": {
        "id": "at8DyvRfwUsW"
      }
    },
    {
      "cell_type": "code",
      "execution_count": 4,
      "metadata": {
        "colab": {
          "base_uri": "https://localhost:8080/"
        },
        "id": "Q_l8l5RTui9y",
        "outputId": "799c4fe0-e5b3-44d1-9a3b-4ab254264797"
      },
      "outputs": [
        {
          "output_type": "stream",
          "name": "stdout",
          "text": [
            "5\n"
          ]
        }
      ],
      "source": [
        "p1=MyClass() #Object of class \"MyClass\"\n",
        "print(p1.x)  #Printing an attribute/property of class \"MyClass\""
      ]
    },
    {
      "cell_type": "markdown",
      "source": [
        "**_init_() function:**\n",
        "\n",
        "\n",
        "*   All classes have an _init_ function.\n",
        "*   It is always executed when a class is being initiated.\n",
        "*   _init_() function is used to assign values to the object properties or other operations that are necessary to do when the object is being created.\n",
        "\n",
        "\n",
        "\n"
      ],
      "metadata": {
        "id": "MFNu8jWpw6Tm"
      }
    },
    {
      "cell_type": "code",
      "source": [
        "#Defining a class Person\n",
        "class Person:\n",
        "  #Defining class attributes\n",
        "  def __init__(self,name,age):\n",
        "    self.name=name\n",
        "    self.age=age\n",
        "\n",
        "#Initiating an Object\n",
        "p1 = Person(\"John\",36)\n",
        "\n",
        "#Printing the object attributes\n",
        "print(p1.name)\n",
        "print(p1.age)"
      ],
      "metadata": {
        "colab": {
          "base_uri": "https://localhost:8080/"
        },
        "id": "FcIxe_uxzNHu",
        "outputId": "c5607df2-fe49-4abb-b080-6ee4edf73391"
      },
      "execution_count": 15,
      "outputs": [
        {
          "output_type": "stream",
          "name": "stdout",
          "text": [
            "John\n",
            "36\n"
          ]
        }
      ]
    },
    {
      "cell_type": "markdown",
      "source": [
        "**_str_() function:**\n",
        "\n",
        "\n",
        "*   Controls what should be returned when the class object is represented as a string\n",
        "*   Without _str_() function, the string representation of the object will be returened.\n",
        "\n"
      ],
      "metadata": {
        "id": "NRNg-Llbz3wS"
      }
    },
    {
      "cell_type": "markdown",
      "source": [
        "**without _str_() function:**"
      ],
      "metadata": {
        "id": "v4587ZR70TsT"
      }
    },
    {
      "cell_type": "code",
      "source": [
        "class Person:\n",
        "  def __init__(self, name, age):\n",
        "    self.name = name\n",
        "    self.age = age\n",
        "\n",
        "p1 = Person(\"John\", 36)\n",
        "\n",
        "print(p1)"
      ],
      "metadata": {
        "colab": {
          "base_uri": "https://localhost:8080/"
        },
        "id": "eMIwC1lh0a3e",
        "outputId": "d7555b19-cea8-4fd6-e621-c9f0ebf6f301"
      },
      "execution_count": 16,
      "outputs": [
        {
          "output_type": "stream",
          "name": "stdout",
          "text": [
            "<__main__.Person object at 0x7e26dba64f10>\n"
          ]
        }
      ]
    },
    {
      "cell_type": "markdown",
      "source": [
        "**With __str__() function:**"
      ],
      "metadata": {
        "id": "F32zyJFb0ftR"
      }
    },
    {
      "cell_type": "code",
      "source": [
        "class Person:\n",
        "  def __init__(self, name, age):\n",
        "    self.name = name\n",
        "    self.age = age\n",
        "\n",
        "  def __str__(self):\n",
        "    return f\"{self.name}({self.age})\"\n",
        "\n",
        "p1 = Person(\"John\", 36)\n",
        "\n",
        "print(p1)"
      ],
      "metadata": {
        "colab": {
          "base_uri": "https://localhost:8080/"
        },
        "id": "cj74M6DI0eVI",
        "outputId": "c5322e6a-43a2-4c88-a766-61058ca564ae"
      },
      "execution_count": 17,
      "outputs": [
        {
          "output_type": "stream",
          "name": "stdout",
          "text": [
            "John(36)\n"
          ]
        }
      ]
    },
    {
      "cell_type": "markdown",
      "source": [
        "**Object Methods:**\n",
        "\n",
        "*   Objects can also have methods.\n",
        "*   Methods in objects are functions that belong to the object.\n",
        "*   These are defined within the class."
      ],
      "metadata": {
        "id": "GdsAVlO50qzV"
      }
    },
    {
      "cell_type": "code",
      "source": [
        "class Person:\n",
        "  def __init__(self, name, age):\n",
        "    self.name = name\n",
        "    self.age = age\n",
        "\n",
        "  #Method\n",
        "  def myfunc(self):\n",
        "    print(\"Hello my name is \" + self.name)\n",
        "\n",
        "p1 = Person(\"John\", 36)\n",
        "p1.myfunc()"
      ],
      "metadata": {
        "colab": {
          "base_uri": "https://localhost:8080/"
        },
        "id": "ttlO7VJM1FQZ",
        "outputId": "ae749a2b-bd44-417a-d31b-34fe9435089c"
      },
      "execution_count": 18,
      "outputs": [
        {
          "output_type": "stream",
          "name": "stdout",
          "text": [
            "Hello my name is John\n"
          ]
        }
      ]
    },
    {
      "cell_type": "markdown",
      "source": [
        "**Self Parameter:**\n",
        "\n",
        "*   Self Parameter refers to the current instance of the class and is used to access variables that belong to the class.\n",
        "*   Self can be renamed as any word as shown below.\n",
        "\n"
      ],
      "metadata": {
        "id": "_yxo9X0H1O5j"
      }
    },
    {
      "cell_type": "code",
      "source": [
        "class Person:\n",
        "  def __init__(koushik, name, age):\n",
        "    koushik.name = name\n",
        "    koushik.age = age\n",
        "\n",
        "  def myfunc(abc):\n",
        "    print(\"Hello my name is \" + abc.name)\n",
        "\n",
        "p1 = Person(\"John\", 36)\n",
        "p1.myfunc()"
      ],
      "metadata": {
        "colab": {
          "base_uri": "https://localhost:8080/"
        },
        "id": "V5bAj8V11lYt",
        "outputId": "ce409f3e-ce6a-4d74-a42d-78d9ae550918"
      },
      "execution_count": 22,
      "outputs": [
        {
          "output_type": "stream",
          "name": "stdout",
          "text": [
            "Hello my name is John\n"
          ]
        }
      ]
    },
    {
      "cell_type": "markdown",
      "source": [
        "**Modify object properties**"
      ],
      "metadata": {
        "id": "aThKu-u21wda"
      }
    },
    {
      "cell_type": "code",
      "source": [
        "print(p1.age)\n",
        "p1.age=40\n",
        "print(p1.age)"
      ],
      "metadata": {
        "colab": {
          "base_uri": "https://localhost:8080/"
        },
        "id": "_Y2lHxkQ1ufd",
        "outputId": "a679dcc6-8803-474f-a295-9614f8c0224c"
      },
      "execution_count": 23,
      "outputs": [
        {
          "output_type": "stream",
          "name": "stdout",
          "text": [
            "36\n",
            "40\n"
          ]
        }
      ]
    },
    {
      "cell_type": "markdown",
      "source": [
        "**Delete object properties**"
      ],
      "metadata": {
        "id": "lN64MywW17Xn"
      }
    },
    {
      "cell_type": "code",
      "source": [
        "print(p1.age)\n",
        "del p1.age\n",
        "print(p1.age)"
      ],
      "metadata": {
        "colab": {
          "base_uri": "https://localhost:8080/",
          "height": 232
        },
        "id": "89ffkKLy16R_",
        "outputId": "94e72603-7205-46ca-ef74-76ce0c3ed46e"
      },
      "execution_count": 21,
      "outputs": [
        {
          "output_type": "stream",
          "name": "stdout",
          "text": [
            "40\n"
          ]
        },
        {
          "output_type": "error",
          "ename": "AttributeError",
          "evalue": "'Person' object has no attribute 'age'",
          "traceback": [
            "\u001b[0;31m---------------------------------------------------------------------------\u001b[0m",
            "\u001b[0;31mAttributeError\u001b[0m                            Traceback (most recent call last)",
            "\u001b[0;32m<ipython-input-21-da9b99536e2d>\u001b[0m in \u001b[0;36m<cell line: 3>\u001b[0;34m()\u001b[0m\n\u001b[1;32m      1\u001b[0m \u001b[0mprint\u001b[0m\u001b[0;34m(\u001b[0m\u001b[0mp1\u001b[0m\u001b[0;34m.\u001b[0m\u001b[0mage\u001b[0m\u001b[0;34m)\u001b[0m\u001b[0;34m\u001b[0m\u001b[0;34m\u001b[0m\u001b[0m\n\u001b[1;32m      2\u001b[0m \u001b[0;32mdel\u001b[0m \u001b[0mp1\u001b[0m\u001b[0;34m.\u001b[0m\u001b[0mage\u001b[0m\u001b[0;34m\u001b[0m\u001b[0;34m\u001b[0m\u001b[0m\n\u001b[0;32m----> 3\u001b[0;31m \u001b[0mprint\u001b[0m\u001b[0;34m(\u001b[0m\u001b[0mp1\u001b[0m\u001b[0;34m.\u001b[0m\u001b[0mage\u001b[0m\u001b[0;34m)\u001b[0m\u001b[0;34m\u001b[0m\u001b[0;34m\u001b[0m\u001b[0m\n\u001b[0m",
            "\u001b[0;31mAttributeError\u001b[0m: 'Person' object has no attribute 'age'"
          ]
        }
      ]
    },
    {
      "cell_type": "markdown",
      "source": [
        "**Pass Statement:**\n",
        "\n",
        "Class definition cannot be empty. But for some reason if we have to create an empty class, Pass statement will help us to create an empty class"
      ],
      "metadata": {
        "id": "-BqW7rxM2QSB"
      }
    },
    {
      "cell_type": "code",
      "source": [
        "from ast import Pass\n",
        "class Person:\n",
        "  Pass"
      ],
      "metadata": {
        "id": "PfVpNjx22Tnj"
      },
      "execution_count": 24,
      "outputs": []
    }
  ]
}